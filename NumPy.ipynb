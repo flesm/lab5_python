{
 "cells": [
  {
   "cell_type": "markdown",
   "id": "7dcd9595",
   "metadata": {},
   "source": [
    "## Лабараторная работа № 5 Варыянт 18"
   ]
  },
  {
   "cell_type": "markdown",
   "id": "e0233e3b",
   "metadata": {},
   "source": [
    "### Вылічэнні з дапамогай NumPy"
   ]
  },
  {
   "cell_type": "markdown",
   "id": "9492e781",
   "metadata": {},
   "source": [
    "1. **Вылічыць выраз** "
   ]
  },
  {
   "cell_type": "markdown",
   "id": "edaf081c",
   "metadata": {},
   "source": [
    "$$y=\\tan(a+b)^2 - \\sqrt[3]{a+1.5} + a*b^5 - \\frac{b}{\\ln a^2}$$"
   ]
  },
  {
   "cell_type": "code",
   "execution_count": 1,
   "id": "75b28b0a",
   "metadata": {},
   "outputs": [
    {
     "data": {
      "text/plain": [
       "9601.743376458367"
      ]
     },
     "execution_count": 1,
     "metadata": {},
     "output_type": "execute_result"
    }
   ],
   "source": [
    "import numpy as np\n",
    "\n",
    "a = 1.21\n",
    "b = 0.371\n",
    "\n",
    "y = np.tan(a+b)**2 - np.cbrt(a+1.5) + a*b**5 - b/np.log(a**2)\n",
    "\n",
    "y"
   ]
  },
  {
   "cell_type": "markdown",
   "id": "b528628a",
   "metadata": {},
   "source": [
    "2. **Знайсці ацэнкі ўраўнення рэгрэсіі**"
   ]
  },
  {
   "cell_type": "markdown",
   "id": "88c24b31",
   "metadata": {},
   "source": [
    "$$\\mathbf{A} = (\\mathbf{X}^\\mathrm{T}\\mathbf{X})^{-1}(\\mathbf{X}^\\mathrm{T}\\mathbf{Y})$$"
   ]
  },
  {
   "cell_type": "code",
   "execution_count": 1,
   "id": "2fb54711",
   "metadata": {},
   "outputs": [
    {
     "name": "stdout",
     "output_type": "stream",
     "text": [
      "Матрыца X:\n"
     ]
    },
    {
     "data": {
      "text/plain": [
       "[[1, 23, 72],\n",
       " [1, 21, 68],\n",
       " [1, 27, 82],\n",
       " [1, 28, 69],\n",
       " [1, 24, 68],\n",
       " [1, 29, 73],\n",
       " [1, 22, 66],\n",
       " [1, 27, 82],\n",
       " [1, 28, 82],\n",
       " [1, 22, 65],\n",
       " [1, 24, 60],\n",
       " [1, 22, 63]]"
      ]
     },
     "metadata": {},
     "output_type": "display_data"
    },
    {
     "name": "stdout",
     "output_type": "stream",
     "text": [
      "Матрыца Y:\n"
     ]
    },
    {
     "data": {
      "text/plain": [
       "[[14.5],\n",
       " [17.7],\n",
       " [13.9],\n",
       " [15.0],\n",
       " [17.9],\n",
       " [14.4],\n",
       " [15.4],\n",
       " [17.4],\n",
       " [16.2],\n",
       " [18.6],\n",
       " [15.6],\n",
       " [17.3]]"
      ]
     },
     "metadata": {},
     "output_type": "display_data"
    },
    {
     "name": "stdout",
     "output_type": "stream",
     "text": [
      "Вектар ацэнак A:\n",
      "[[ 2.24755116e+01]\n",
      " [-3.09981626e-01]\n",
      " [ 1.91275343e-02]]\n",
      "\n",
      "Вектар-праверка Y_CH:\n",
      "[[16.72311663]\n",
      " [17.26656975]\n",
      " [15.67446548]\n",
      " [15.1158259 ]\n",
      " [16.33662487]\n",
      " [14.88235442]\n",
      " [16.91833305]\n",
      " [15.67446548]\n",
      " [15.36448385]\n",
      " [16.89920552]\n",
      " [16.1836046 ]\n",
      " [16.86095045]]\n"
     ]
    }
   ],
   "source": [
    "import numpy as np\n",
    "import random as r\n",
    "from IPython.display import display\n",
    "\n",
    "matrixX = []\n",
    "matrixY = []\n",
    "\n",
    "for i in range(12):\n",
    "    row = [1]\n",
    "    row.append(r.randint(18, 30))\n",
    "    row.append(r.randint(60, 82))\n",
    "    matrixX.append(row)\n",
    "    \n",
    "    matrixY.append([round(r.uniform(13.5, 18.6), 1)])\n",
    "\n",
    "print(\"Матрыца X:\")\n",
    "display(matrixX)\n",
    "print(\"Матрыца Y:\")\n",
    "display(matrixY)\n",
    "\n",
    "X = np.array(matrixX)\n",
    "Y = np.array(matrixY)\n",
    "\n",
    "A = np.linalg.inv(X.T.dot(X)).dot(X.T).dot(Y)\n",
    "print(f\"Вектар ацэнак A:\\n{np.matrix(A)}\", end='\\n\\n')\n",
    "\n",
    "Y_CH = X.dot(A)\n",
    "print(f\"Вектар-праверка Y_CH:\\n{np.matrix(Y_CH)}\")\n"
   ]
  }
 ],
 "metadata": {
  "kernelspec": {
   "display_name": "Python 3 (ipykernel)",
   "language": "python",
   "name": "python3"
  },
  "language_info": {
   "codemirror_mode": {
    "name": "ipython",
    "version": 3
   },
   "file_extension": ".py",
   "mimetype": "text/x-python",
   "name": "python",
   "nbconvert_exporter": "python",
   "pygments_lexer": "ipython3",
   "version": "3.11.5"
  }
 },
 "nbformat": 4,
 "nbformat_minor": 5
}
